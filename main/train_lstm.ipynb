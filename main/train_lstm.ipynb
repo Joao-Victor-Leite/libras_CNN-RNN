{
  "cells": [
    {
      "cell_type": "markdown",
      "metadata": {
        "id": "q5GKd2N7RuYc"
      },
      "source": [
        "# Importação de Dependências"
      ]
    },
    {
      "cell_type": "code",
      "execution_count": null,
      "metadata": {
        "collapsed": true,
        "id": "VynWXtKh7hWK"
      },
      "outputs": [],
      "source": [
        "!pip install numpy matplotlib tensorflow"
      ]
    },
    {
      "cell_type": "code",
      "execution_count": null,
      "metadata": {
        "id": "AT8NGp0e36Et"
      },
      "outputs": [],
      "source": [
        "# =============================\n",
        "# Built-in Libraries\n",
        "# =============================\n",
        "import datetime\n",
        "import os\n",
        "import string\n",
        "import sys\n",
        "import time\n",
        "from collections import Counter\n",
        "from concurrent.futures import ThreadPoolExecutor, as_completed\n",
        "\n",
        "# =============================\n",
        "# Third-Party Libraries\n",
        "# =============================\n",
        "\n",
        "# Timezone\n",
        "import pytz\n",
        "\n",
        "# NumPy & Visualization\n",
        "import matplotlib.pyplot as plt\n",
        "import numpy as np\n",
        "import seaborn as sns\n",
        "\n",
        "# Scikit-learn\n",
        "from sklearn.metrics import classification_report, confusion_matrix, f1_score\n",
        "\n",
        "# TensorFlow / Keras\n",
        "from tensorflow.keras.callbacks import EarlyStopping, ModelCheckpoint, ReduceLROnPlateau, TensorBoard\n",
        "from tensorflow.keras.layers import Dense, Dropout, LSTM, LayerNormalization, TimeDistributed\n",
        "from tensorflow.keras.models import Sequential, load_model\n",
        "from tensorflow.keras.optimizers import Adam\n",
        "from tensorflow.keras.utils import plot_model, to_categorical\n",
        "\n",
        "# Progress Bar\n",
        "from tqdm.notebook import tqdm"
      ]
    },
    {
      "cell_type": "markdown",
      "metadata": {
        "id": "T5RiDP3GR8ew"
      },
      "source": [
        "# Variáveis e Configurações"
      ]
    },
    {
      "cell_type": "code",
      "execution_count": null,
      "metadata": {
        "id": "E0RQJVWA4K7G"
      },
      "outputs": [],
      "source": [
        "# Caminho dos diretorios das amostras\n",
        "lstm_path_data_train = '/content/drive/MyDrive/Academico/TCC/Projeto_alterado/dataset/lstm/train/'  # Alterar para o caminho correto do seu dataset\n",
        "lstm_path_data_test = '/content/drive/MyDrive/Academico/TCC/Projeto_alterado/dataset/lstm/test/'    #Alterar para o caminho correto do seu dataset\n",
        "\n",
        "# Configurações globais\n",
        "actions = np.array(sorted(os.listdir(lstm_path_data_train)))\n",
        "EPOCHS = 300\n",
        "SEQUENCE_LENGTH = 30\n",
        "FEATURES_PER_FRAME = 126\n",
        "N = 100\n",
        "FILE_NAME = 'lstm_model_'\n",
        "LABEL_MAP = {label: num for num, label in enumerate(actions)}\n",
        "\n",
        "print(LABEL_MAP)"
      ]
    },
    {
      "cell_type": "code",
      "execution_count": null,
      "metadata": {
        "id": "Tqm99HhMcOye"
      },
      "outputs": [],
      "source": [
        "print(\"Letras detectadas em train:\")\n",
        "print(actions)\n",
        "print(f\"Total de letras: {len(actions)}\")"
      ]
    },
    {
      "cell_type": "markdown",
      "metadata": {
        "id": "Ker6nMEfQyIN"
      },
      "source": [
        "# Declaração de Funções"
      ]
    },
    {
      "cell_type": "code",
      "execution_count": null,
      "metadata": {
        "id": "g8LQ94Zx5EGW"
      },
      "outputs": [],
      "source": [
        "def get_log_filename():\n",
        "    \"\"\"\n",
        "    Gera um nome de arquivo de log baseado na data e hora atuais.\n",
        "\n",
        "    Returns:\n",
        "        str: Nome do arquivo no formato 'lstm_model_DD_MM_YYYY_HH_MM_log.log'.\n",
        "    \"\"\"\n",
        "    tz = pytz.timezone('America/Sao_Paulo')\n",
        "    now = datetime.datetime.now(tz)\n",
        "    return f'lstm_model_{now:%d_%m_%Y_%H_%M}_log.log'\n",
        "\n",
        "\n",
        "def get_date_str():\n",
        "    \"\"\"\n",
        "    Gera uma string de data e hora atual com fuso horário de São Paulo.\n",
        "\n",
        "    Returns:\n",
        "        str: Data formatada como 'DD_MM_YYYY_HH_MM'.\n",
        "    \"\"\"\n",
        "    tz = pytz.timezone('America/Sao_Paulo')\n",
        "    now = datetime.datetime.now(tz)\n",
        "    return now.strftime('%d_%m_%Y_%H_%M')\n",
        "\n",
        "\n",
        "def get_time_min(start, end):\n",
        "    \"\"\"\n",
        "    Calcula a diferença entre dois instantes de tempo em minutos.\n",
        "\n",
        "    Args:\n",
        "        start (float): Tempo inicial (em segundos, geralmente de time.time()).\n",
        "        end (float): Tempo final (em segundos, geralmente de time.time()).\n",
        "\n",
        "    Returns:\n",
        "        float: Diferença de tempo em minutos.\n",
        "    \"\"\"\n",
        "    return (end - start) / 60\n",
        "\n",
        "def load_sequence(seq_path, sequence_length):\n",
        "    \"\"\"\n",
        "    Carrega uma sequência de frames a partir de arquivos `.npy`.\n",
        "\n",
        "    Args:\n",
        "        seq_path (str): Caminho do diretório contendo os arquivos da sequência.\n",
        "        sequence_length (int): Número de frames (arquivos `.npy`) a serem carregados.\n",
        "\n",
        "    Returns:\n",
        "        list[np.ndarray] | None: Lista contendo os arrays carregados, ou `None` em caso de erro.\n",
        "    \"\"\"\n",
        "    try:\n",
        "        return [np.load(os.path.join(seq_path, f\"{i}.npy\")) for i in range(sequence_length)]\n",
        "    except Exception as e:\n",
        "        print(f\"[WARN] Falha ao carregar {seq_path}: {e}\")\n",
        "        return None\n",
        "\n",
        "def process_data(data_path, actions, label_map, sequence_length, max_workers=8, max_sequences_per_action=None):\n",
        "    \"\"\"\n",
        "    Carrega os dados em formato de sequência de frames para cada gesto/ação.\n",
        "\n",
        "    Args:\n",
        "        data_path (str): Caminho base dos dados.\n",
        "        actions (list): Lista de ações/gestos.\n",
        "        label_map (dict): Mapeamento de ação para rótulo.\n",
        "        sequence_length (int): Número de frames por sequência.\n",
        "        max_sequences_per_action (int, opcional): Quantidade máxima de sequências por ação.\n",
        "\n",
        "    Returns:\n",
        "        sequences (np.ndarray): Array com shape (num_sequencias, sequence_length, features).\n",
        "        labels (np.ndarray): Array de rótulos (num_sequencias,).\n",
        "    \"\"\"\n",
        "    sequences, labels = [], []\n",
        "    tasks = []\n",
        "\n",
        "    for action in actions:\n",
        "        action_dir = os.path.join(data_path, action)\n",
        "        sequence_names = [s for s in os.listdir(action_dir) if s.isdigit()]\n",
        "        sequence_names = sorted(sequence_names, key=int)\n",
        "        if max_sequences_per_action:\n",
        "            sequence_names = sequence_names[:max_sequences_per_action]\n",
        "        for seq in sequence_names:\n",
        "            seq_path = os.path.join(action_dir, seq)\n",
        "            tasks.append((action, seq_path, label_map[action]))\n",
        "\n",
        "    sequences_tmp = []\n",
        "\n",
        "    with ThreadPoolExecutor(max_workers=max_workers) as executor:\n",
        "        futures = []\n",
        "        for action, seq_path, label in tasks:\n",
        "            futures.append((executor.submit(load_sequence, seq_path, sequence_length), label))\n",
        "\n",
        "        for (future, label) in tqdm(futures, desc=\"Carregando sequências\", total=len(futures)):\n",
        "            window = future.result()\n",
        "            if window is not None:\n",
        "                sequences.append(window)\n",
        "                labels.append(label)\n",
        "\n",
        "    sequences = np.array(sequences)\n",
        "    labels = to_categorical(labels, num_classes=len(label_map)).astype(int)\n",
        "    return sequences, labels\n",
        "\n",
        "\n",
        "def augment_sequence(sequence, noise_std=0.01, shuffle_prob=0.1):\n",
        "    \"\"\"\n",
        "    Aplica data augmentation leve a uma sequência: ruído gaussiano e shuffle suave.\n",
        "\n",
        "    Args:\n",
        "        sequence (np.ndarray): Sequência (sequence_length, features)\n",
        "        noise_std (float): Desvio padrão do ruído.\n",
        "        shuffle_prob (float): Probabilidade de trocar dois frames.\n",
        "\n",
        "    Returns:\n",
        "        np.ndarray: Sequência aumentada.\n",
        "    \"\"\"\n",
        "    # Aplica ruído\n",
        "    noisy = sequence + np.random.normal(0, noise_std, size=sequence.shape)\n",
        "\n",
        "    # Shuffle suave\n",
        "    if shuffle_prob > 0:\n",
        "        new_seq = noisy.copy()\n",
        "        for i in range(len(new_seq) - 1):\n",
        "            if np.random.rand() < shuffle_prob:\n",
        "                new_seq[i], new_seq[i+1] = new_seq[i+1], new_seq[i]\n",
        "        return new_seq\n",
        "    else:\n",
        "        return noisy\n",
        "\n",
        "\n",
        "def augment_and_balance_data(X, y, augment_per_class=100, noise_std=0.01, shuffle_prob=0.1):\n",
        "    \"\"\"\n",
        "    Aumenta e balanceia o dataset de treino aplicando oversampling com data augmentation.\n",
        "\n",
        "    Args:\n",
        "        X (np.ndarray): Dados de entrada (num_samples, seq_len, features).\n",
        "        y (np.ndarray): Labels one-hot (num_samples, num_classes).\n",
        "        augment_per_class (int): Número alvo mínimo de amostras por classe.\n",
        "        noise_std (float): Intensidade do ruído aplicado.\n",
        "        shuffle_prob (float): Probabilidade de trocar dois frames adjacentes.\n",
        "\n",
        "    Returns:\n",
        "        tuple: (X_aug, y_aug) balanceados e aumentados.\n",
        "    \"\"\"\n",
        "    X_aug, y_aug = list(X), list(y)\n",
        "    y_int = np.argmax(y, axis=1)\n",
        "    class_counts = Counter(y_int)\n",
        "\n",
        "    num_classes = y.shape[1]\n",
        "\n",
        "    for class_idx in range(num_classes):\n",
        "        current_samples = [i for i in range(len(y_int)) if y_int[i] == class_idx]\n",
        "        needed = augment_per_class - len(current_samples)\n",
        "\n",
        "        if needed > 0:\n",
        "            for _ in range(needed):\n",
        "                idx = np.random.choice(current_samples)\n",
        "                new_seq = augment_sequence(X[idx], noise_std=noise_std, shuffle_prob=shuffle_prob)\n",
        "                X_aug.append(new_seq)\n",
        "                y_aug.append(y[idx])\n",
        "\n",
        "    X_aug = np.array(X_aug)\n",
        "    y_aug = np.array(y_aug)\n",
        "    return X_aug, y_aug"
      ]
    },
    {
      "cell_type": "markdown",
      "metadata": {
        "id": "g3Aj3ECdR2xZ"
      },
      "source": [
        "# Organização da Saída de Log"
      ]
    },
    {
      "cell_type": "code",
      "execution_count": null,
      "metadata": {
        "id": "VcD7cCZ252XY"
      },
      "outputs": [],
      "source": [
        "# Caminho para o diretório de logs\n",
        "log_dir = '/content/drive/MyDrive/Academico/TCC/Projeto_alterado/logs'\n",
        "os.makedirs(log_dir, exist_ok=True)\n",
        "\n",
        "# Caminho completo para o arquivo de log\n",
        "log_file_path = os.path.join(log_dir, get_log_filename())\n",
        "\n",
        "# Redirecionar a saída padrão para o arquivo de log\n",
        "sys.stdout = open(log_file_path, 'w')\n",
        "\n",
        "# Configuração de callbacks\n",
        "tb_callback = TensorBoard(log_dir=log_dir)"
      ]
    },
    {
      "cell_type": "code",
      "execution_count": null,
      "metadata": {
        "id": "ZjeEl55i5Lzs"
      },
      "outputs": [],
      "source": [
        "print(\"\\n\\n ----------------------INICIO --------------------------\\n\")\n",
        "print('[INFO] [INICIO]: ' + get_date_str())\n",
        "\n",
        "start = time.time()"
      ]
    },
    {
      "cell_type": "markdown",
      "metadata": {
        "id": "oTm8QJ9zhIyR"
      },
      "source": [
        "# Processamento 1"
      ]
    },
    {
      "cell_type": "markdown",
      "metadata": {
        "id": "cICyVP1xSO9_"
      },
      "source": [
        "Caso os dados já tenham sido processados, ignorem a célula abaixo e vão diretamente para a célula que carrega os dados nas suas respectivas variáveis com:\n",
        "\n",
        "```\n",
        "X_train = np.load('caminho_do_diretório')\n",
        "y_train = np.load('caminho_do_diretório')\n",
        "X_test  = np.load('caminho_do_diretório')\n",
        "y_test  = np.load('caminho_do_diretório')\n",
        "```\n",
        "\n"
      ]
    },
    {
      "cell_type": "code",
      "execution_count": null,
      "metadata": {
        "colab": {
          "base_uri": "https://localhost:8080/",
          "height": 81,
          "referenced_widgets": [
            "27436f1e59be49c386da3e96be2023f8",
            "8c81262c2b3b425cb558f543c074b911",
            "fb1096d3fad54935a69909a0c069348b",
            "440fd7cf99ea4b81afa8cfb0cb8c8735",
            "147537cb34fc48a389f664345f6b42c1",
            "a62c76f3494146ab8e81583f70c0dd12",
            "e09df2f9623447c98fc36a53f5d5c769",
            "5c6fbcf5a95641c38e2c9af05ee0eb7a",
            "1618558ff14b4d2ead0168fec89c1228",
            "c2d07afffaaf4e04af4263b5413e25fb",
            "38f3172ff2f74dabb46fd6f1c5fd713f",
            "9d93fb1f958742968ef362e4d17ed7df",
            "986dffc7b1904e97af662cf3ca9cdd4a",
            "f15c8f2a23654f1099b5dba634ecc5ed",
            "932bb89432ac420bac3aa81debaa71fc",
            "0281267e141b40058969557f0c5a9ee3",
            "8d6620a0a67c474aa4bb1b27ec39b535",
            "6eb87928277a43229c2d6f0ceb4f3264",
            "0bf0fb1beb5a420eb7f89129893161a5",
            "841fb0fbde41420f9dea72271508daa5",
            "80b8561c6cbe4865b0c7c2f4b45b8a67",
            "231d3f199eb4451bb377d2a76ae57ff1"
          ]
        },
        "id": "QEuPzje2zLLm",
        "outputId": "2157e87f-2bbe-44e3-e221-3a8e0958aeb9"
      },
      "outputs": [],
      "source": [
        "X_train, y_train = process_data(lstm_path_data_train, actions, LABEL_MAP, SEQUENCE_LENGTH, max_sequences_per_action=N)\n",
        "X_test, y_test = process_data(lstm_path_data_test, actions, LABEL_MAP, SEQUENCE_LENGTH, max_sequences_per_action=N)"
      ]
    },
    {
      "cell_type": "code",
      "execution_count": null,
      "metadata": {
        "id": "I9uTqZXEzWMP"
      },
      "outputs": [],
      "source": [
        "os.makedirs('/content/drive/MyDrive/Academico/TCC/Projeto_alterado/dataset/lstm/processed_data', exist_ok=True)\n",
        "\n",
        "np.save('/content/drive/MyDrive/Academico/TCC/Projeto_alterado/dataset/lstm/processed_data/X_train.npy', X_train)\n",
        "np.save('/content/drive/MyDrive/Academico/TCC/Projeto_alterado/dataset/lstm/processed_data/y_train.npy', y_train)\n",
        "np.save('/content/drive/MyDrive/Academico/TCC/Projeto_alterado/dataset/lstm/processed_data/X_test.npy', X_test)\n",
        "np.save('/content/drive/MyDrive/Academico/TCC/Projeto_alterado/dataset/lstm/processed_data/y_test.npy', y_test)"
      ]
    },
    {
      "cell_type": "code",
      "execution_count": null,
      "metadata": {
        "id": "cXswMnVJzl8X"
      },
      "outputs": [],
      "source": [
        "X_train = np.load('/content/drive/MyDrive/Academico/TCC/Projeto_alterado/dataset/lstm/processed_data/X_train.npy')\n",
        "y_train = np.load('/content/drive/MyDrive/Academico/TCC/Projeto_alterado/dataset/lstm/processed_data/y_train.npy')\n",
        "X_test  = np.load('/content/drive/MyDrive/Academico/TCC/Projeto_alterado/dataset/lstm/processed_data/X_test.npy')\n",
        "y_test  = np.load('/content/drive/MyDrive/Academico/TCC/Projeto_alterado/dataset/lstm/processed_data/y_test.npy')"
      ]
    },
    {
      "cell_type": "code",
      "execution_count": null,
      "metadata": {
        "id": "sHgpIwdZ50Ry"
      },
      "outputs": [],
      "source": [
        "print(\"Formato de X_train:\", X_train.shape)\n",
        "print(\"Formato de y_train:\", y_train.shape)\n",
        "print(\"Formato de X_test:\", X_test.shape)\n",
        "print(\"Formato de y_test:\", y_test.shape)"
      ]
    },
    {
      "cell_type": "code",
      "execution_count": null,
      "metadata": {
        "id": "4D9nHpSUdlij"
      },
      "outputs": [],
      "source": [
        "y_true = np.argmax(y_test, axis=1)\n",
        "unique, counts = np.unique(y_true, return_counts=True)\n",
        "\n",
        "print(\"Distribuição de classes no conjunto de teste:\")\n",
        "for idx, count in zip(unique, counts):\n",
        "    print(f\"{actions[idx]}: {count} amostras\")"
      ]
    },
    {
      "cell_type": "code",
      "execution_count": null,
      "metadata": {
        "collapsed": true,
        "id": "pjXc9e135-5A"
      },
      "outputs": [],
      "source": [
        "model = Sequential([\n",
        "    LSTM(128, return_sequences=True, input_shape=(SEQUENCE_LENGTH, FEATURES_PER_FRAME)),\n",
        "    LayerNormalization(),\n",
        "    Dropout(0.3),\n",
        "\n",
        "    LSTM(128),\n",
        "    LayerNormalization(),\n",
        "    Dropout(0.4),\n",
        "\n",
        "    Dense(64, activation='relu'),\n",
        "    Dropout(0.3),\n",
        "\n",
        "    Dense(len(actions), activation='softmax')\n",
        "])\n",
        "\n",
        "# Compilação\n",
        "model.compile(optimizer=Adam(learning_rate=0.0003),\n",
        "              loss='categorical_crossentropy',\n",
        "              metrics=['categorical_accuracy'])\n",
        "\n",
        "# Callbacks\n",
        "early_stop = EarlyStopping(monitor='val_loss', patience=30, restore_best_weights=True)\n",
        "reduce_lr = ReduceLROnPlateau(monitor='val_loss', factor=0.2, patience=5, min_lr=1e-5)\n",
        "checkpoint = ModelCheckpoint('best_lstm_model.h5', monitor='val_categorical_accuracy', save_best_only=True, mode='max')\n",
        "\n",
        "# Treinamento\n",
        "print(\"\\n[INFO] Treinando o modelo LSTM otimizado...\")\n",
        "history = model.fit(\n",
        "    X_train, y_train,\n",
        "    epochs=EPOCHS,\n",
        "    batch_size=32,\n",
        "    validation_data=(X_test, y_test),\n",
        "    callbacks=[early_stop, reduce_lr, checkpoint]\n",
        ")"
      ]
    },
    {
      "cell_type": "markdown",
      "metadata": {
        "id": "1dqG5LuFhOTf"
      },
      "source": [
        "# Processamento 2 (Uso de Data Augmentation)"
      ]
    },
    {
      "cell_type": "code",
      "execution_count": null,
      "metadata": {
        "id": "OUOctF_FtO8R"
      },
      "outputs": [],
      "source": [
        "X_train, y_train = process_data(lstm_path_data_train, actions, LABEL_MAP, SEQUENCE_LENGTH, max_sequences_per_action=N)\n",
        "X_test, y_test = process_data(lstm_path_data_test, actions, LABEL_MAP, SEQUENCE_LENGTH, max_sequences_per_action=N)"
      ]
    },
    {
      "cell_type": "code",
      "execution_count": null,
      "metadata": {
        "id": "iNu-bJlEjvcO"
      },
      "outputs": [],
      "source": [
        "X_train_aug, y_train_aug = augment_and_balance_data(X_train, y_train, augment_per_class=100)"
      ]
    },
    {
      "cell_type": "code",
      "execution_count": null,
      "metadata": {
        "id": "KfHqGDSDtPWm"
      },
      "outputs": [],
      "source": [
        "os.makedirs('/content/drive/MyDrive/Academico/TCC/Projeto_alterado/dataset/lstm/processed_data1', exist_ok=True)\n",
        "\n",
        "np.save('/content/drive/MyDrive/Academico/TCC/Projeto_alterado/dataset/lstm/processed_data1/X_train.npy', X_train)\n",
        "np.save('/content/drive/MyDrive/Academico/TCC/Projeto_alterado/dataset/lstm/processed_data1/y_train.npy', y_train)\n",
        "np.save('/content/drive/MyDrive/Academico/TCC/Projeto_alterado/dataset/lstm/processed_data1/X_test.npy', X_test)\n",
        "np.save('/content/drive/MyDrive/Academico/TCC/Projeto_alterado/dataset/lstm/processed_data1/y_test.npy', y_test)"
      ]
    },
    {
      "cell_type": "code",
      "execution_count": null,
      "metadata": {
        "id": "1Be3wBw9NZ-H"
      },
      "outputs": [],
      "source": [
        "X_train_aug = np.load('/content/drive/MyDrive/Academico/TCC/Projeto_alterado/dataset/lstm/processed_data1/X_train.npy')\n",
        "y_train_aug = np.load('/content/drive/MyDrive/Academico/TCC/Projeto_alterado/dataset/lstm/processed_data1/y_train.npy')\n",
        "X_test  = np.load('/content/drive/MyDrive/Academico/TCC/Projeto_alterado/dataset/lstm/processed_data1/X_test.npy')\n",
        "y_test  = np.load('/content/drive/MyDrive/Academico/TCC/Projeto_alterado/dataset/lstm/processed_data1/y_test.npy')"
      ]
    },
    {
      "cell_type": "code",
      "execution_count": null,
      "metadata": {
        "id": "W6ii5fqdC9kv"
      },
      "outputs": [],
      "source": [
        "model = Sequential([\n",
        "    # Extração temporal de padrões com LSTM\n",
        "    LSTM(128, return_sequences=True, input_shape=(SEQUENCE_LENGTH, FEATURES_PER_FRAME)),\n",
        "    LayerNormalization(),\n",
        "    Dropout(0.3),\n",
        "\n",
        "    LSTM(256, return_sequences=True),\n",
        "    LayerNormalization(),\n",
        "    Dropout(0.3),\n",
        "\n",
        "    LSTM(128),\n",
        "    LayerNormalization(),\n",
        "    Dropout(0.4),\n",
        "\n",
        "    Dense(128, activation='relu'),\n",
        "    LayerNormalization(),\n",
        "    Dropout(0.4),\n",
        "\n",
        "    Dense(64, activation='relu'),\n",
        "    Dropout(0.3),\n",
        "\n",
        "    Dense(len(actions), activation='softmax')\n",
        "])\n",
        "\n",
        "# Compilação\n",
        "model.compile(optimizer=Adam(learning_rate=0.0003),\n",
        "              loss='categorical_crossentropy',\n",
        "              metrics=['categorical_accuracy'])\n",
        "\n",
        "# Callbacks\n",
        "early_stop = EarlyStopping(monitor='val_loss', patience=60, restore_best_weights=True)\n",
        "reduce_lr = ReduceLROnPlateau(monitor='val_loss', factor=0.2, patience=5, min_lr=1e-5)\n",
        "checkpoint = ModelCheckpoint('best_lstm_model.h5', monitor='val_categorical_accuracy', save_best_only=True, mode='max')\n",
        "\n",
        "# Treinamento\n",
        "print(\"\\n[INFO] Treinando o modelo LSTM com data aug...\")\n",
        "history = model.fit(\n",
        "    X_train_aug, y_train_aug,  # <-- dados aumentados\n",
        "    epochs=EPOCHS,\n",
        "    batch_size=32,\n",
        "    validation_data=(X_test, y_test),\n",
        "    callbacks=[early_stop, reduce_lr, checkpoint]\n",
        ")"
      ]
    },
    {
      "cell_type": "markdown",
      "metadata": {
        "id": "YX9GpJNoQduA"
      },
      "source": [
        "# Plotagem dos dados"
      ]
    },
    {
      "cell_type": "code",
      "execution_count": null,
      "metadata": {
        "id": "FPYweY-u7BtK"
      },
      "outputs": [],
      "source": [
        "# Registrar métricas de cada época\n",
        "for epoch in range(len(history.history['loss'])):\n",
        "    print(f\"Epoch {epoch + 1}/{EPOCHS} - loss: {history.history['loss'][epoch]:.4f} - acc: {history.history['categorical_accuracy'][epoch]:.4f} - val_loss: {history.history['val_loss'][epoch]:.4f} - val_acc: {history.history['val_categorical_accuracy'][epoch]:.4f}\")"
      ]
    },
    {
      "cell_type": "code",
      "execution_count": null,
      "metadata": {
        "id": "lstD9Krv7Cgy"
      },
      "outputs": [],
      "source": [
        "# Avaliação\n",
        "print(\"\\n[INFO] Avaliando a LSTM...\")\n",
        "score = model.evaluate(X_test, y_test, verbose=1)\n",
        "print(f\"[INFO] Accuracy: {score[1] * 100:.2f}% | Loss: {score[0]:.5f}\")"
      ]
    },
    {
      "cell_type": "code",
      "execution_count": null,
      "metadata": {
        "colab": {
          "base_uri": "https://localhost:8080/"
        },
        "id": "g1tiLZMi71vo",
        "outputId": "c15d4dc2-c06b-4182-b991-16a145fbf2fa"
      },
      "outputs": [
        {
          "name": "stderr",
          "output_type": "stream",
          "text": [
            "WARNING:absl:You are saving your model as an HDF5 file via `model.save()` or `keras.saving.save_model(model)`. This file format is considered legacy. We recommend using instead the native Keras format, e.g. `model.save('my_model.keras')` or `keras.saving.save_model(model, 'my_model.keras')`. \n"
          ]
        }
      ],
      "source": [
        "# Salvamento do modelo\n",
        "file_date = get_date_str()\n",
        "model_path = f'/content/drive/MyDrive/Academico/TCC/Projeto_alterado/models/{FILE_NAME}{file_date}.h5'\n",
        "model.save(model_path)\n",
        "print(f'[INFO] Modelo salvo em: {model_path}')\n",
        "\n",
        "end = time.time()\n",
        "print(\"[INFO] LSTM Runtime: %.1f min\" % (get_time_min(start, end)))"
      ]
    },
    {
      "cell_type": "code",
      "execution_count": null,
      "metadata": {
        "colab": {
          "base_uri": "https://localhost:8080/"
        },
        "id": "kVSZsn8DIjO6",
        "outputId": "79ffc9b2-238b-4b6e-e0d2-bb48538a1fb5"
      },
      "outputs": [
        {
          "name": "stderr",
          "output_type": "stream",
          "text": [
            "WARNING:absl:Compiled the loaded model, but the compiled metrics have yet to be built. `model.compile_metrics` will be empty until you train or evaluate the model.\n"
          ]
        }
      ],
      "source": [
        "# Carregar o melhor modelo salvo\n",
        "model = load_model(model_path)\n",
        "print(\"[INFO] Modelo carregado com sucesso.\")"
      ]
    },
    {
      "cell_type": "code",
      "execution_count": null,
      "metadata": {
        "colab": {
          "base_uri": "https://localhost:8080/",
          "height": 484
        },
        "id": "ONhyLkCk74lZ",
        "outputId": "0fb8038e-9baa-4030-abc7-00538365dd0d"
      },
      "outputs": [
        {
          "data": {
            "text/html": [
              "<pre style=\"white-space:pre;overflow-x:auto;line-height:normal;font-family:Menlo,'DejaVu Sans Mono',consolas,'Courier New',monospace\"><span style=\"font-weight: bold\">Model: \"sequential\"</span>\n",
              "</pre>\n"
            ],
            "text/plain": [
              "\u001b[1mModel: \"sequential\"\u001b[0m\n"
            ]
          },
          "metadata": {},
          "output_type": "display_data"
        },
        {
          "data": {
            "text/html": [
              "<pre style=\"white-space:pre;overflow-x:auto;line-height:normal;font-family:Menlo,'DejaVu Sans Mono',consolas,'Courier New',monospace\">┏━━━━━━━━━━━━━━━━━━━━━━━━━━━━━━━━━┳━━━━━━━━━━━━━━━━━━━━━━━━┳━━━━━━━━━━━━━━━┓\n",
              "┃<span style=\"font-weight: bold\"> Layer (type)                    </span>┃<span style=\"font-weight: bold\"> Output Shape           </span>┃<span style=\"font-weight: bold\">       Param # </span>┃\n",
              "┡━━━━━━━━━━━━━━━━━━━━━━━━━━━━━━━━━╇━━━━━━━━━━━━━━━━━━━━━━━━╇━━━━━━━━━━━━━━━┩\n",
              "│ lstm (<span style=\"color: #0087ff; text-decoration-color: #0087ff\">LSTM</span>)                     │ (<span style=\"color: #00d7ff; text-decoration-color: #00d7ff\">None</span>, <span style=\"color: #00af00; text-decoration-color: #00af00\">30</span>, <span style=\"color: #00af00; text-decoration-color: #00af00\">128</span>)        │       <span style=\"color: #00af00; text-decoration-color: #00af00\">130,560</span> │\n",
              "├─────────────────────────────────┼────────────────────────┼───────────────┤\n",
              "│ layer_normalization             │ (<span style=\"color: #00d7ff; text-decoration-color: #00d7ff\">None</span>, <span style=\"color: #00af00; text-decoration-color: #00af00\">30</span>, <span style=\"color: #00af00; text-decoration-color: #00af00\">128</span>)        │           <span style=\"color: #00af00; text-decoration-color: #00af00\">256</span> │\n",
              "│ (<span style=\"color: #0087ff; text-decoration-color: #0087ff\">LayerNormalization</span>)            │                        │               │\n",
              "├─────────────────────────────────┼────────────────────────┼───────────────┤\n",
              "│ dropout (<span style=\"color: #0087ff; text-decoration-color: #0087ff\">Dropout</span>)               │ (<span style=\"color: #00d7ff; text-decoration-color: #00d7ff\">None</span>, <span style=\"color: #00af00; text-decoration-color: #00af00\">30</span>, <span style=\"color: #00af00; text-decoration-color: #00af00\">128</span>)        │             <span style=\"color: #00af00; text-decoration-color: #00af00\">0</span> │\n",
              "├─────────────────────────────────┼────────────────────────┼───────────────┤\n",
              "│ lstm_1 (<span style=\"color: #0087ff; text-decoration-color: #0087ff\">LSTM</span>)                   │ (<span style=\"color: #00d7ff; text-decoration-color: #00d7ff\">None</span>, <span style=\"color: #00af00; text-decoration-color: #00af00\">128</span>)            │       <span style=\"color: #00af00; text-decoration-color: #00af00\">131,584</span> │\n",
              "├─────────────────────────────────┼────────────────────────┼───────────────┤\n",
              "│ layer_normalization_1           │ (<span style=\"color: #00d7ff; text-decoration-color: #00d7ff\">None</span>, <span style=\"color: #00af00; text-decoration-color: #00af00\">128</span>)            │           <span style=\"color: #00af00; text-decoration-color: #00af00\">256</span> │\n",
              "│ (<span style=\"color: #0087ff; text-decoration-color: #0087ff\">LayerNormalization</span>)            │                        │               │\n",
              "├─────────────────────────────────┼────────────────────────┼───────────────┤\n",
              "│ dropout_1 (<span style=\"color: #0087ff; text-decoration-color: #0087ff\">Dropout</span>)             │ (<span style=\"color: #00d7ff; text-decoration-color: #00d7ff\">None</span>, <span style=\"color: #00af00; text-decoration-color: #00af00\">128</span>)            │             <span style=\"color: #00af00; text-decoration-color: #00af00\">0</span> │\n",
              "├─────────────────────────────────┼────────────────────────┼───────────────┤\n",
              "│ dense (<span style=\"color: #0087ff; text-decoration-color: #0087ff\">Dense</span>)                   │ (<span style=\"color: #00d7ff; text-decoration-color: #00d7ff\">None</span>, <span style=\"color: #00af00; text-decoration-color: #00af00\">64</span>)             │         <span style=\"color: #00af00; text-decoration-color: #00af00\">8,256</span> │\n",
              "├─────────────────────────────────┼────────────────────────┼───────────────┤\n",
              "│ dropout_2 (<span style=\"color: #0087ff; text-decoration-color: #0087ff\">Dropout</span>)             │ (<span style=\"color: #00d7ff; text-decoration-color: #00d7ff\">None</span>, <span style=\"color: #00af00; text-decoration-color: #00af00\">64</span>)             │             <span style=\"color: #00af00; text-decoration-color: #00af00\">0</span> │\n",
              "├─────────────────────────────────┼────────────────────────┼───────────────┤\n",
              "│ dense_1 (<span style=\"color: #0087ff; text-decoration-color: #0087ff\">Dense</span>)                 │ (<span style=\"color: #00d7ff; text-decoration-color: #00d7ff\">None</span>, <span style=\"color: #00af00; text-decoration-color: #00af00\">26</span>)             │         <span style=\"color: #00af00; text-decoration-color: #00af00\">1,690</span> │\n",
              "└─────────────────────────────────┴────────────────────────┴───────────────┘\n",
              "</pre>\n"
            ],
            "text/plain": [
              "┏━━━━━━━━━━━━━━━━━━━━━━━━━━━━━━━━━┳━━━━━━━━━━━━━━━━━━━━━━━━┳━━━━━━━━━━━━━━━┓\n",
              "┃\u001b[1m \u001b[0m\u001b[1mLayer (type)                   \u001b[0m\u001b[1m \u001b[0m┃\u001b[1m \u001b[0m\u001b[1mOutput Shape          \u001b[0m\u001b[1m \u001b[0m┃\u001b[1m \u001b[0m\u001b[1m      Param #\u001b[0m\u001b[1m \u001b[0m┃\n",
              "┡━━━━━━━━━━━━━━━━━━━━━━━━━━━━━━━━━╇━━━━━━━━━━━━━━━━━━━━━━━━╇━━━━━━━━━━━━━━━┩\n",
              "│ lstm (\u001b[38;5;33mLSTM\u001b[0m)                     │ (\u001b[38;5;45mNone\u001b[0m, \u001b[38;5;34m30\u001b[0m, \u001b[38;5;34m128\u001b[0m)        │       \u001b[38;5;34m130,560\u001b[0m │\n",
              "├─────────────────────────────────┼────────────────────────┼───────────────┤\n",
              "│ layer_normalization             │ (\u001b[38;5;45mNone\u001b[0m, \u001b[38;5;34m30\u001b[0m, \u001b[38;5;34m128\u001b[0m)        │           \u001b[38;5;34m256\u001b[0m │\n",
              "│ (\u001b[38;5;33mLayerNormalization\u001b[0m)            │                        │               │\n",
              "├─────────────────────────────────┼────────────────────────┼───────────────┤\n",
              "│ dropout (\u001b[38;5;33mDropout\u001b[0m)               │ (\u001b[38;5;45mNone\u001b[0m, \u001b[38;5;34m30\u001b[0m, \u001b[38;5;34m128\u001b[0m)        │             \u001b[38;5;34m0\u001b[0m │\n",
              "├─────────────────────────────────┼────────────────────────┼───────────────┤\n",
              "│ lstm_1 (\u001b[38;5;33mLSTM\u001b[0m)                   │ (\u001b[38;5;45mNone\u001b[0m, \u001b[38;5;34m128\u001b[0m)            │       \u001b[38;5;34m131,584\u001b[0m │\n",
              "├─────────────────────────────────┼────────────────────────┼───────────────┤\n",
              "│ layer_normalization_1           │ (\u001b[38;5;45mNone\u001b[0m, \u001b[38;5;34m128\u001b[0m)            │           \u001b[38;5;34m256\u001b[0m │\n",
              "│ (\u001b[38;5;33mLayerNormalization\u001b[0m)            │                        │               │\n",
              "├─────────────────────────────────┼────────────────────────┼───────────────┤\n",
              "│ dropout_1 (\u001b[38;5;33mDropout\u001b[0m)             │ (\u001b[38;5;45mNone\u001b[0m, \u001b[38;5;34m128\u001b[0m)            │             \u001b[38;5;34m0\u001b[0m │\n",
              "├─────────────────────────────────┼────────────────────────┼───────────────┤\n",
              "│ dense (\u001b[38;5;33mDense\u001b[0m)                   │ (\u001b[38;5;45mNone\u001b[0m, \u001b[38;5;34m64\u001b[0m)             │         \u001b[38;5;34m8,256\u001b[0m │\n",
              "├─────────────────────────────────┼────────────────────────┼───────────────┤\n",
              "│ dropout_2 (\u001b[38;5;33mDropout\u001b[0m)             │ (\u001b[38;5;45mNone\u001b[0m, \u001b[38;5;34m64\u001b[0m)             │             \u001b[38;5;34m0\u001b[0m │\n",
              "├─────────────────────────────────┼────────────────────────┼───────────────┤\n",
              "│ dense_1 (\u001b[38;5;33mDense\u001b[0m)                 │ (\u001b[38;5;45mNone\u001b[0m, \u001b[38;5;34m26\u001b[0m)             │         \u001b[38;5;34m1,690\u001b[0m │\n",
              "└─────────────────────────────────┴────────────────────────┴───────────────┘\n"
            ]
          },
          "metadata": {},
          "output_type": "display_data"
        },
        {
          "data": {
            "text/html": [
              "<pre style=\"white-space:pre;overflow-x:auto;line-height:normal;font-family:Menlo,'DejaVu Sans Mono',consolas,'Courier New',monospace\"><span style=\"font-weight: bold\"> Total params: </span><span style=\"color: #00af00; text-decoration-color: #00af00\">272,604</span> (1.04 MB)\n",
              "</pre>\n"
            ],
            "text/plain": [
              "\u001b[1m Total params: \u001b[0m\u001b[38;5;34m272,604\u001b[0m (1.04 MB)\n"
            ]
          },
          "metadata": {},
          "output_type": "display_data"
        },
        {
          "data": {
            "text/html": [
              "<pre style=\"white-space:pre;overflow-x:auto;line-height:normal;font-family:Menlo,'DejaVu Sans Mono',consolas,'Courier New',monospace\"><span style=\"font-weight: bold\"> Trainable params: </span><span style=\"color: #00af00; text-decoration-color: #00af00\">272,602</span> (1.04 MB)\n",
              "</pre>\n"
            ],
            "text/plain": [
              "\u001b[1m Trainable params: \u001b[0m\u001b[38;5;34m272,602\u001b[0m (1.04 MB)\n"
            ]
          },
          "metadata": {},
          "output_type": "display_data"
        },
        {
          "data": {
            "text/html": [
              "<pre style=\"white-space:pre;overflow-x:auto;line-height:normal;font-family:Menlo,'DejaVu Sans Mono',consolas,'Courier New',monospace\"><span style=\"font-weight: bold\"> Non-trainable params: </span><span style=\"color: #00af00; text-decoration-color: #00af00\">0</span> (0.00 B)\n",
              "</pre>\n"
            ],
            "text/plain": [
              "\u001b[1m Non-trainable params: \u001b[0m\u001b[38;5;34m0\u001b[0m (0.00 B)\n"
            ]
          },
          "metadata": {},
          "output_type": "display_data"
        },
        {
          "data": {
            "text/html": [
              "<pre style=\"white-space:pre;overflow-x:auto;line-height:normal;font-family:Menlo,'DejaVu Sans Mono',consolas,'Courier New',monospace\"><span style=\"font-weight: bold\"> Optimizer params: </span><span style=\"color: #00af00; text-decoration-color: #00af00\">2</span> (12.00 B)\n",
              "</pre>\n"
            ],
            "text/plain": [
              "\u001b[1m Optimizer params: \u001b[0m\u001b[38;5;34m2\u001b[0m (12.00 B)\n"
            ]
          },
          "metadata": {},
          "output_type": "display_data"
        }
      ],
      "source": [
        "# Resumo do modelo\n",
        "print('[INFO] Summary: ')\n",
        "model.summary()"
      ]
    },
    {
      "cell_type": "code",
      "execution_count": null,
      "metadata": {
        "id": "g0jgfUOq75G4"
      },
      "outputs": [],
      "source": [
        "# Criação de diretórios para gráficos\n",
        "os.makedirs('/content/drive/MyDrive/Academico/TCC/Projeto_alterado/models/graphics', exist_ok=True)\n",
        "os.makedirs('/content/drive/MyDrive/Academico/TCC/Projeto_alterado/models/image', exist_ok=True)"
      ]
    },
    {
      "cell_type": "code",
      "execution_count": null,
      "metadata": {
        "id": "989_qFGj78LQ"
      },
      "outputs": [],
      "source": [
        "# Gráficos de resultados\n",
        "print(\"[INFO] Generating loss and accuracy graph\")\n",
        "plt.style.use(\"ggplot\")\n",
        "plt.figure()\n",
        "\n",
        "num_epochs_trained = len(history.history[\"loss\"])\n",
        "\n",
        "plt.plot(np.arange(0, num_epochs_trained), history.history[\"loss\"], label=\"train_loss\")\n",
        "plt.plot(np.arange(0, num_epochs_trained), history.history[\"val_loss\"], label=\"val_loss\")\n",
        "plt.plot(np.arange(0, num_epochs_trained), history.history[\"categorical_accuracy\"], label=\"train_acc\")\n",
        "plt.plot(np.arange(0, num_epochs_trained), history.history[\"val_categorical_accuracy\"], label=\"val_acc\")\n",
        "\n",
        "plt.title(\"Training Loss and Accuracy\")\n",
        "plt.xlabel(\"Epoch #\")\n",
        "plt.ylabel(\"Loss/Accuracy\")\n",
        "plt.legend()\n",
        "plt.savefig(f'/content/drive/MyDrive/Academico/TCC/Projeto_alterado/models/graphics/{FILE_NAME}{file_date}.png', bbox_inches='tight')"
      ]
    },
    {
      "cell_type": "code",
      "execution_count": null,
      "metadata": {
        "id": "AxQZyvQW8E1P"
      },
      "outputs": [],
      "source": [
        "# Gerar previsões para o conjunto de teste\n",
        "y_pred = model.predict(X_test)\n",
        "y_pred_classes = np.argmax(y_pred, axis=1)\n",
        "y_true = np.argmax(y_test, axis=1)\n",
        "\n",
        "# Calcular F1-score\n",
        "f1 = f1_score(y_true, y_pred_classes, average='weighted')\n",
        "\n",
        "print(f\"F1-score: {f1:.4f}\")\n",
        "\n",
        "# Gerar relatório completo\n",
        "print(classification_report(y_true, y_pred_classes))\n",
        "\n",
        "# Calcular a matriz de confusão\n",
        "labels = np.arange(len(actions))\n",
        "conf_matrix = confusion_matrix(y_true, y_pred_classes)\n",
        "\n",
        "# Plotar a matriz de confusão\n",
        "plt.figure(figsize=(10, 8))\n",
        "sns.heatmap(conf_matrix, annot=True, fmt='d', cmap='Blues',\n",
        "            xticklabels=actions, yticklabels=actions, vmin=0, vmax=20)\n",
        "plt.title('Matriz de Confusão')\n",
        "plt.ylabel('Rótulo Verdadeiro')\n",
        "plt.xlabel('Rótulo Predito')\n",
        "plt.xticks(rotation=45)\n",
        "plt.yticks(rotation=0)\n",
        "plt.tight_layout()\n",
        "\n",
        "# Salvar a imagem\n",
        "confusion_matrix_path = f'/content/drive/MyDrive/Academico/TCC/Projeto_alterado/models/graphics/{FILE_NAME}{file_date}_confusion_matrix.png'\n",
        "plt.savefig(confusion_matrix_path, bbox_inches='tight')\n",
        "plt.show()\n",
        "\n",
        "print(f\"[INFO] Matriz de confusão salva em: {confusion_matrix_path}\")"
      ]
    },
    {
      "cell_type": "code",
      "execution_count": null,
      "metadata": {
        "id": "7Cy8tquX8JpA"
      },
      "outputs": [],
      "source": [
        "# Plot da arquitetura do modelo\n",
        "print('[INFO] Generating image of model architecture')\n",
        "plot_model(model, to_file=f'/content/drive/MyDrive/Academico/TCC/Projeto_alterado/models/image/{FILE_NAME}{file_date}.png', show_shapes=True)\n",
        "\n",
        "print('\\n[INFO] [FIM]: ' + get_date_str())\n",
        "\n",
        "# Fechar o arquivo de log\n",
        "sys.stdout.close()\n",
        "sys.stdout = sys.__stdout__  # Restaurar a saída padrão\n",
        "\n",
        "print(f\"[INFO] Log salvo em: {log_file_path}\")"
      ]
    }
  ],
  "metadata": {
    "accelerator": "TPU",
    "colab": {
      "gpuType": "V28",
      "provenance": []
    },
    "kernelspec": {
      "display_name": "Python 3",
      "name": "python3"
    },
    "language_info": {
      "name": "python"
    },
    "widgets": {
      "application/vnd.jupyter.widget-state+json": {
        "0281267e141b40058969557f0c5a9ee3": {
          "model_module": "@jupyter-widgets/base",
          "model_module_version": "1.2.0",
          "model_name": "LayoutModel",
          "state": {
            "_model_module": "@jupyter-widgets/base",
            "_model_module_version": "1.2.0",
            "_model_name": "LayoutModel",
            "_view_count": null,
            "_view_module": "@jupyter-widgets/base",
            "_view_module_version": "1.2.0",
            "_view_name": "LayoutView",
            "align_content": null,
            "align_items": null,
            "align_self": null,
            "border": null,
            "bottom": null,
            "display": null,
            "flex": null,
            "flex_flow": null,
            "grid_area": null,
            "grid_auto_columns": null,
            "grid_auto_flow": null,
            "grid_auto_rows": null,
            "grid_column": null,
            "grid_gap": null,
            "grid_row": null,
            "grid_template_areas": null,
            "grid_template_columns": null,
            "grid_template_rows": null,
            "height": null,
            "justify_content": null,
            "justify_items": null,
            "left": null,
            "margin": null,
            "max_height": null,
            "max_width": null,
            "min_height": null,
            "min_width": null,
            "object_fit": null,
            "object_position": null,
            "order": null,
            "overflow": null,
            "overflow_x": null,
            "overflow_y": null,
            "padding": null,
            "right": null,
            "top": null,
            "visibility": null,
            "width": null
          }
        },
        "0bf0fb1beb5a420eb7f89129893161a5": {
          "model_module": "@jupyter-widgets/base",
          "model_module_version": "1.2.0",
          "model_name": "LayoutModel",
          "state": {
            "_model_module": "@jupyter-widgets/base",
            "_model_module_version": "1.2.0",
            "_model_name": "LayoutModel",
            "_view_count": null,
            "_view_module": "@jupyter-widgets/base",
            "_view_module_version": "1.2.0",
            "_view_name": "LayoutView",
            "align_content": null,
            "align_items": null,
            "align_self": null,
            "border": null,
            "bottom": null,
            "display": null,
            "flex": null,
            "flex_flow": null,
            "grid_area": null,
            "grid_auto_columns": null,
            "grid_auto_flow": null,
            "grid_auto_rows": null,
            "grid_column": null,
            "grid_gap": null,
            "grid_row": null,
            "grid_template_areas": null,
            "grid_template_columns": null,
            "grid_template_rows": null,
            "height": null,
            "justify_content": null,
            "justify_items": null,
            "left": null,
            "margin": null,
            "max_height": null,
            "max_width": null,
            "min_height": null,
            "min_width": null,
            "object_fit": null,
            "object_position": null,
            "order": null,
            "overflow": null,
            "overflow_x": null,
            "overflow_y": null,
            "padding": null,
            "right": null,
            "top": null,
            "visibility": null,
            "width": null
          }
        },
        "147537cb34fc48a389f664345f6b42c1": {
          "model_module": "@jupyter-widgets/base",
          "model_module_version": "1.2.0",
          "model_name": "LayoutModel",
          "state": {
            "_model_module": "@jupyter-widgets/base",
            "_model_module_version": "1.2.0",
            "_model_name": "LayoutModel",
            "_view_count": null,
            "_view_module": "@jupyter-widgets/base",
            "_view_module_version": "1.2.0",
            "_view_name": "LayoutView",
            "align_content": null,
            "align_items": null,
            "align_self": null,
            "border": null,
            "bottom": null,
            "display": null,
            "flex": null,
            "flex_flow": null,
            "grid_area": null,
            "grid_auto_columns": null,
            "grid_auto_flow": null,
            "grid_auto_rows": null,
            "grid_column": null,
            "grid_gap": null,
            "grid_row": null,
            "grid_template_areas": null,
            "grid_template_columns": null,
            "grid_template_rows": null,
            "height": null,
            "justify_content": null,
            "justify_items": null,
            "left": null,
            "margin": null,
            "max_height": null,
            "max_width": null,
            "min_height": null,
            "min_width": null,
            "object_fit": null,
            "object_position": null,
            "order": null,
            "overflow": null,
            "overflow_x": null,
            "overflow_y": null,
            "padding": null,
            "right": null,
            "top": null,
            "visibility": null,
            "width": null
          }
        },
        "1618558ff14b4d2ead0168fec89c1228": {
          "model_module": "@jupyter-widgets/controls",
          "model_module_version": "1.5.0",
          "model_name": "ProgressStyleModel",
          "state": {
            "_model_module": "@jupyter-widgets/controls",
            "_model_module_version": "1.5.0",
            "_model_name": "ProgressStyleModel",
            "_view_count": null,
            "_view_module": "@jupyter-widgets/base",
            "_view_module_version": "1.2.0",
            "_view_name": "StyleView",
            "bar_color": null,
            "description_width": ""
          }
        },
        "231d3f199eb4451bb377d2a76ae57ff1": {
          "model_module": "@jupyter-widgets/controls",
          "model_module_version": "1.5.0",
          "model_name": "DescriptionStyleModel",
          "state": {
            "_model_module": "@jupyter-widgets/controls",
            "_model_module_version": "1.5.0",
            "_model_name": "DescriptionStyleModel",
            "_view_count": null,
            "_view_module": "@jupyter-widgets/base",
            "_view_module_version": "1.2.0",
            "_view_name": "StyleView",
            "description_width": ""
          }
        },
        "27436f1e59be49c386da3e96be2023f8": {
          "model_module": "@jupyter-widgets/controls",
          "model_module_version": "1.5.0",
          "model_name": "HBoxModel",
          "state": {
            "_dom_classes": [],
            "_model_module": "@jupyter-widgets/controls",
            "_model_module_version": "1.5.0",
            "_model_name": "HBoxModel",
            "_view_count": null,
            "_view_module": "@jupyter-widgets/controls",
            "_view_module_version": "1.5.0",
            "_view_name": "HBoxView",
            "box_style": "",
            "children": [
              "IPY_MODEL_8c81262c2b3b425cb558f543c074b911",
              "IPY_MODEL_fb1096d3fad54935a69909a0c069348b",
              "IPY_MODEL_440fd7cf99ea4b81afa8cfb0cb8c8735"
            ],
            "layout": "IPY_MODEL_147537cb34fc48a389f664345f6b42c1"
          }
        },
        "38f3172ff2f74dabb46fd6f1c5fd713f": {
          "model_module": "@jupyter-widgets/controls",
          "model_module_version": "1.5.0",
          "model_name": "DescriptionStyleModel",
          "state": {
            "_model_module": "@jupyter-widgets/controls",
            "_model_module_version": "1.5.0",
            "_model_name": "DescriptionStyleModel",
            "_view_count": null,
            "_view_module": "@jupyter-widgets/base",
            "_view_module_version": "1.2.0",
            "_view_name": "StyleView",
            "description_width": ""
          }
        },
        "440fd7cf99ea4b81afa8cfb0cb8c8735": {
          "model_module": "@jupyter-widgets/controls",
          "model_module_version": "1.5.0",
          "model_name": "HTMLModel",
          "state": {
            "_dom_classes": [],
            "_model_module": "@jupyter-widgets/controls",
            "_model_module_version": "1.5.0",
            "_model_name": "HTMLModel",
            "_view_count": null,
            "_view_module": "@jupyter-widgets/controls",
            "_view_module_version": "1.5.0",
            "_view_name": "HTMLView",
            "description": "",
            "description_tooltip": null,
            "layout": "IPY_MODEL_c2d07afffaaf4e04af4263b5413e25fb",
            "placeholder": "​",
            "style": "IPY_MODEL_38f3172ff2f74dabb46fd6f1c5fd713f",
            "value": " 2080/2080 [48:55&lt;00:00,  1.48s/it]"
          }
        },
        "5c6fbcf5a95641c38e2c9af05ee0eb7a": {
          "model_module": "@jupyter-widgets/base",
          "model_module_version": "1.2.0",
          "model_name": "LayoutModel",
          "state": {
            "_model_module": "@jupyter-widgets/base",
            "_model_module_version": "1.2.0",
            "_model_name": "LayoutModel",
            "_view_count": null,
            "_view_module": "@jupyter-widgets/base",
            "_view_module_version": "1.2.0",
            "_view_name": "LayoutView",
            "align_content": null,
            "align_items": null,
            "align_self": null,
            "border": null,
            "bottom": null,
            "display": null,
            "flex": null,
            "flex_flow": null,
            "grid_area": null,
            "grid_auto_columns": null,
            "grid_auto_flow": null,
            "grid_auto_rows": null,
            "grid_column": null,
            "grid_gap": null,
            "grid_row": null,
            "grid_template_areas": null,
            "grid_template_columns": null,
            "grid_template_rows": null,
            "height": null,
            "justify_content": null,
            "justify_items": null,
            "left": null,
            "margin": null,
            "max_height": null,
            "max_width": null,
            "min_height": null,
            "min_width": null,
            "object_fit": null,
            "object_position": null,
            "order": null,
            "overflow": null,
            "overflow_x": null,
            "overflow_y": null,
            "padding": null,
            "right": null,
            "top": null,
            "visibility": null,
            "width": null
          }
        },
        "6eb87928277a43229c2d6f0ceb4f3264": {
          "model_module": "@jupyter-widgets/controls",
          "model_module_version": "1.5.0",
          "model_name": "DescriptionStyleModel",
          "state": {
            "_model_module": "@jupyter-widgets/controls",
            "_model_module_version": "1.5.0",
            "_model_name": "DescriptionStyleModel",
            "_view_count": null,
            "_view_module": "@jupyter-widgets/base",
            "_view_module_version": "1.2.0",
            "_view_name": "StyleView",
            "description_width": ""
          }
        },
        "80b8561c6cbe4865b0c7c2f4b45b8a67": {
          "model_module": "@jupyter-widgets/base",
          "model_module_version": "1.2.0",
          "model_name": "LayoutModel",
          "state": {
            "_model_module": "@jupyter-widgets/base",
            "_model_module_version": "1.2.0",
            "_model_name": "LayoutModel",
            "_view_count": null,
            "_view_module": "@jupyter-widgets/base",
            "_view_module_version": "1.2.0",
            "_view_name": "LayoutView",
            "align_content": null,
            "align_items": null,
            "align_self": null,
            "border": null,
            "bottom": null,
            "display": null,
            "flex": null,
            "flex_flow": null,
            "grid_area": null,
            "grid_auto_columns": null,
            "grid_auto_flow": null,
            "grid_auto_rows": null,
            "grid_column": null,
            "grid_gap": null,
            "grid_row": null,
            "grid_template_areas": null,
            "grid_template_columns": null,
            "grid_template_rows": null,
            "height": null,
            "justify_content": null,
            "justify_items": null,
            "left": null,
            "margin": null,
            "max_height": null,
            "max_width": null,
            "min_height": null,
            "min_width": null,
            "object_fit": null,
            "object_position": null,
            "order": null,
            "overflow": null,
            "overflow_x": null,
            "overflow_y": null,
            "padding": null,
            "right": null,
            "top": null,
            "visibility": null,
            "width": null
          }
        },
        "841fb0fbde41420f9dea72271508daa5": {
          "model_module": "@jupyter-widgets/controls",
          "model_module_version": "1.5.0",
          "model_name": "ProgressStyleModel",
          "state": {
            "_model_module": "@jupyter-widgets/controls",
            "_model_module_version": "1.5.0",
            "_model_name": "ProgressStyleModel",
            "_view_count": null,
            "_view_module": "@jupyter-widgets/base",
            "_view_module_version": "1.2.0",
            "_view_name": "StyleView",
            "bar_color": null,
            "description_width": ""
          }
        },
        "8c81262c2b3b425cb558f543c074b911": {
          "model_module": "@jupyter-widgets/controls",
          "model_module_version": "1.5.0",
          "model_name": "HTMLModel",
          "state": {
            "_dom_classes": [],
            "_model_module": "@jupyter-widgets/controls",
            "_model_module_version": "1.5.0",
            "_model_name": "HTMLModel",
            "_view_count": null,
            "_view_module": "@jupyter-widgets/controls",
            "_view_module_version": "1.5.0",
            "_view_name": "HTMLView",
            "description": "",
            "description_tooltip": null,
            "layout": "IPY_MODEL_a62c76f3494146ab8e81583f70c0dd12",
            "placeholder": "​",
            "style": "IPY_MODEL_e09df2f9623447c98fc36a53f5d5c769",
            "value": "Carregando sequências: 100%"
          }
        },
        "8d6620a0a67c474aa4bb1b27ec39b535": {
          "model_module": "@jupyter-widgets/base",
          "model_module_version": "1.2.0",
          "model_name": "LayoutModel",
          "state": {
            "_model_module": "@jupyter-widgets/base",
            "_model_module_version": "1.2.0",
            "_model_name": "LayoutModel",
            "_view_count": null,
            "_view_module": "@jupyter-widgets/base",
            "_view_module_version": "1.2.0",
            "_view_name": "LayoutView",
            "align_content": null,
            "align_items": null,
            "align_self": null,
            "border": null,
            "bottom": null,
            "display": null,
            "flex": null,
            "flex_flow": null,
            "grid_area": null,
            "grid_auto_columns": null,
            "grid_auto_flow": null,
            "grid_auto_rows": null,
            "grid_column": null,
            "grid_gap": null,
            "grid_row": null,
            "grid_template_areas": null,
            "grid_template_columns": null,
            "grid_template_rows": null,
            "height": null,
            "justify_content": null,
            "justify_items": null,
            "left": null,
            "margin": null,
            "max_height": null,
            "max_width": null,
            "min_height": null,
            "min_width": null,
            "object_fit": null,
            "object_position": null,
            "order": null,
            "overflow": null,
            "overflow_x": null,
            "overflow_y": null,
            "padding": null,
            "right": null,
            "top": null,
            "visibility": null,
            "width": null
          }
        },
        "932bb89432ac420bac3aa81debaa71fc": {
          "model_module": "@jupyter-widgets/controls",
          "model_module_version": "1.5.0",
          "model_name": "HTMLModel",
          "state": {
            "_dom_classes": [],
            "_model_module": "@jupyter-widgets/controls",
            "_model_module_version": "1.5.0",
            "_model_name": "HTMLModel",
            "_view_count": null,
            "_view_module": "@jupyter-widgets/controls",
            "_view_module_version": "1.5.0",
            "_view_name": "HTMLView",
            "description": "",
            "description_tooltip": null,
            "layout": "IPY_MODEL_80b8561c6cbe4865b0c7c2f4b45b8a67",
            "placeholder": "​",
            "style": "IPY_MODEL_231d3f199eb4451bb377d2a76ae57ff1",
            "value": " 520/520 [13:57&lt;00:00,  1.44s/it]"
          }
        },
        "986dffc7b1904e97af662cf3ca9cdd4a": {
          "model_module": "@jupyter-widgets/controls",
          "model_module_version": "1.5.0",
          "model_name": "HTMLModel",
          "state": {
            "_dom_classes": [],
            "_model_module": "@jupyter-widgets/controls",
            "_model_module_version": "1.5.0",
            "_model_name": "HTMLModel",
            "_view_count": null,
            "_view_module": "@jupyter-widgets/controls",
            "_view_module_version": "1.5.0",
            "_view_name": "HTMLView",
            "description": "",
            "description_tooltip": null,
            "layout": "IPY_MODEL_8d6620a0a67c474aa4bb1b27ec39b535",
            "placeholder": "​",
            "style": "IPY_MODEL_6eb87928277a43229c2d6f0ceb4f3264",
            "value": "Carregando sequências: 100%"
          }
        },
        "9d93fb1f958742968ef362e4d17ed7df": {
          "model_module": "@jupyter-widgets/controls",
          "model_module_version": "1.5.0",
          "model_name": "HBoxModel",
          "state": {
            "_dom_classes": [],
            "_model_module": "@jupyter-widgets/controls",
            "_model_module_version": "1.5.0",
            "_model_name": "HBoxModel",
            "_view_count": null,
            "_view_module": "@jupyter-widgets/controls",
            "_view_module_version": "1.5.0",
            "_view_name": "HBoxView",
            "box_style": "",
            "children": [
              "IPY_MODEL_986dffc7b1904e97af662cf3ca9cdd4a",
              "IPY_MODEL_f15c8f2a23654f1099b5dba634ecc5ed",
              "IPY_MODEL_932bb89432ac420bac3aa81debaa71fc"
            ],
            "layout": "IPY_MODEL_0281267e141b40058969557f0c5a9ee3"
          }
        },
        "a62c76f3494146ab8e81583f70c0dd12": {
          "model_module": "@jupyter-widgets/base",
          "model_module_version": "1.2.0",
          "model_name": "LayoutModel",
          "state": {
            "_model_module": "@jupyter-widgets/base",
            "_model_module_version": "1.2.0",
            "_model_name": "LayoutModel",
            "_view_count": null,
            "_view_module": "@jupyter-widgets/base",
            "_view_module_version": "1.2.0",
            "_view_name": "LayoutView",
            "align_content": null,
            "align_items": null,
            "align_self": null,
            "border": null,
            "bottom": null,
            "display": null,
            "flex": null,
            "flex_flow": null,
            "grid_area": null,
            "grid_auto_columns": null,
            "grid_auto_flow": null,
            "grid_auto_rows": null,
            "grid_column": null,
            "grid_gap": null,
            "grid_row": null,
            "grid_template_areas": null,
            "grid_template_columns": null,
            "grid_template_rows": null,
            "height": null,
            "justify_content": null,
            "justify_items": null,
            "left": null,
            "margin": null,
            "max_height": null,
            "max_width": null,
            "min_height": null,
            "min_width": null,
            "object_fit": null,
            "object_position": null,
            "order": null,
            "overflow": null,
            "overflow_x": null,
            "overflow_y": null,
            "padding": null,
            "right": null,
            "top": null,
            "visibility": null,
            "width": null
          }
        },
        "c2d07afffaaf4e04af4263b5413e25fb": {
          "model_module": "@jupyter-widgets/base",
          "model_module_version": "1.2.0",
          "model_name": "LayoutModel",
          "state": {
            "_model_module": "@jupyter-widgets/base",
            "_model_module_version": "1.2.0",
            "_model_name": "LayoutModel",
            "_view_count": null,
            "_view_module": "@jupyter-widgets/base",
            "_view_module_version": "1.2.0",
            "_view_name": "LayoutView",
            "align_content": null,
            "align_items": null,
            "align_self": null,
            "border": null,
            "bottom": null,
            "display": null,
            "flex": null,
            "flex_flow": null,
            "grid_area": null,
            "grid_auto_columns": null,
            "grid_auto_flow": null,
            "grid_auto_rows": null,
            "grid_column": null,
            "grid_gap": null,
            "grid_row": null,
            "grid_template_areas": null,
            "grid_template_columns": null,
            "grid_template_rows": null,
            "height": null,
            "justify_content": null,
            "justify_items": null,
            "left": null,
            "margin": null,
            "max_height": null,
            "max_width": null,
            "min_height": null,
            "min_width": null,
            "object_fit": null,
            "object_position": null,
            "order": null,
            "overflow": null,
            "overflow_x": null,
            "overflow_y": null,
            "padding": null,
            "right": null,
            "top": null,
            "visibility": null,
            "width": null
          }
        },
        "e09df2f9623447c98fc36a53f5d5c769": {
          "model_module": "@jupyter-widgets/controls",
          "model_module_version": "1.5.0",
          "model_name": "DescriptionStyleModel",
          "state": {
            "_model_module": "@jupyter-widgets/controls",
            "_model_module_version": "1.5.0",
            "_model_name": "DescriptionStyleModel",
            "_view_count": null,
            "_view_module": "@jupyter-widgets/base",
            "_view_module_version": "1.2.0",
            "_view_name": "StyleView",
            "description_width": ""
          }
        },
        "f15c8f2a23654f1099b5dba634ecc5ed": {
          "model_module": "@jupyter-widgets/controls",
          "model_module_version": "1.5.0",
          "model_name": "FloatProgressModel",
          "state": {
            "_dom_classes": [],
            "_model_module": "@jupyter-widgets/controls",
            "_model_module_version": "1.5.0",
            "_model_name": "FloatProgressModel",
            "_view_count": null,
            "_view_module": "@jupyter-widgets/controls",
            "_view_module_version": "1.5.0",
            "_view_name": "ProgressView",
            "bar_style": "success",
            "description": "",
            "description_tooltip": null,
            "layout": "IPY_MODEL_0bf0fb1beb5a420eb7f89129893161a5",
            "max": 520,
            "min": 0,
            "orientation": "horizontal",
            "style": "IPY_MODEL_841fb0fbde41420f9dea72271508daa5",
            "value": 520
          }
        },
        "fb1096d3fad54935a69909a0c069348b": {
          "model_module": "@jupyter-widgets/controls",
          "model_module_version": "1.5.0",
          "model_name": "FloatProgressModel",
          "state": {
            "_dom_classes": [],
            "_model_module": "@jupyter-widgets/controls",
            "_model_module_version": "1.5.0",
            "_model_name": "FloatProgressModel",
            "_view_count": null,
            "_view_module": "@jupyter-widgets/controls",
            "_view_module_version": "1.5.0",
            "_view_name": "ProgressView",
            "bar_style": "success",
            "description": "",
            "description_tooltip": null,
            "layout": "IPY_MODEL_5c6fbcf5a95641c38e2c9af05ee0eb7a",
            "max": 2080,
            "min": 0,
            "orientation": "horizontal",
            "style": "IPY_MODEL_1618558ff14b4d2ead0168fec89c1228",
            "value": 2080
          }
        }
      }
    }
  },
  "nbformat": 4,
  "nbformat_minor": 0
}
